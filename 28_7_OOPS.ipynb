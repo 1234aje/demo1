{
 "cells": [
  {
   "cell_type": "code",
   "execution_count": null,
   "id": "7c483211",
   "metadata": {},
   "outputs": [],
   "source": [
    "# Python supports oops language (oops) >\n",
    "# Object Oriented Programming language\n",
    "# whenver we are using class and object then that is called as oops language\n",
    "# It supports differnet programming approaches\n",
    "1) Procedural programming language :\n",
    "    # If we are using funtion and variables the that will be proc pro. language\n",
    "2) Scripting programming language:\n",
    "    example:\n",
    "        a = 100\n",
    "        b = 120\n",
    "        addition = a +b\n",
    "        print(addition)\n",
    "# class: Blueprint of an object the defines variables and methods or it is collection of objects\n",
    "# Object :Real world entities (House,Mobile,bird etc)\n",
    "        # Everithing in python is object e.g str,list,tuple,int etc\n",
    "        # It physical existance of a class\n",
    "        # Instance / variable of class\n",
    "    \n",
    "    Object has two characteristics\n",
    "        1) atribute  :color ,eyes,size,species,weight\n",
    "        2) Behaviour :flying,singing,eat,drink\n",
    "e.g : sketch :\n",
    "example:\n",
    "    1)bird -class :\n",
    "    \n",
    "    \n",
    "    2)mobile  class:\n",
    "        \n",
    "        \n",
    "    3)earth class:\n",
    "        "
   ]
  },
  {
   "cell_type": "code",
   "execution_count": null,
   "id": "4b6d1f47",
   "metadata": {},
   "outputs": [],
   "source": [
    "# var >\n",
    "class : camel case\n",
    "# The first letter is capitalized\n",
    "# One or more letters in that word are also capitalized\n",
    "# No number in that word at any place : e.g ClassName1()\n"
   ]
  },
  {
   "cell_type": "code",
   "execution_count": 2,
   "id": "763946a2",
   "metadata": {},
   "outputs": [
    {
     "name": "stdout",
     "output_type": "stream",
     "text": [
      "Class var>>>>> Data Science\n",
      "This is method1 or funtion 1\n"
     ]
    }
   ],
   "source": [
    "# syntax >\n",
    "# class var : it is variable that defines a perticular property or atribute for class\n",
    "# self: it should be at first position\n",
    "var12 = \"Velocity\" # global variable\n",
    "class ClassName(): # class\n",
    "    var = \"Data Science\" # class variable\n",
    "    def get_myfun(self): # method 1\n",
    "        var1 = \"Python\" # local variable\n",
    "        print(\"This is method1 or funtion 1\")\n",
    "    def get_myfun1(self): # method 2\n",
    "        var2 = \"ML\" # LOCAL VARIABLE\n",
    "        print(\"This is method2 or function2\")\n",
    "    \n",
    "obj1 = ClassName() # here we are creating object\n",
    "print(\"Class var>>>>>\",obj1.var)\n",
    "obj1.get_myfun()\n"
   ]
  },
  {
   "cell_type": "code",
   "execution_count": 3,
   "id": "8abe422f",
   "metadata": {},
   "outputs": [
    {
     "ename": "TypeError",
     "evalue": "get_myfun() takes 0 positional arguments but 1 was given",
     "output_type": "error",
     "traceback": [
      "\u001b[1;31m---------------------------------------------------------------------------\u001b[0m",
      "\u001b[1;31mTypeError\u001b[0m                                 Traceback (most recent call last)",
      "\u001b[1;32m~\\AppData\\Local\\Temp/ipykernel_8108/3958007971.py\u001b[0m in \u001b[0;36m<module>\u001b[1;34m\u001b[0m\n\u001b[0;32m     13\u001b[0m \u001b[1;33m\u001b[0m\u001b[0m\n\u001b[0;32m     14\u001b[0m \u001b[0mobj1\u001b[0m \u001b[1;33m=\u001b[0m \u001b[0mClassName\u001b[0m\u001b[1;33m(\u001b[0m\u001b[1;33m)\u001b[0m \u001b[1;31m# here we are creating object\u001b[0m\u001b[1;33m\u001b[0m\u001b[1;33m\u001b[0m\u001b[0m\n\u001b[1;32m---> 15\u001b[1;33m \u001b[0mobj1\u001b[0m\u001b[1;33m.\u001b[0m\u001b[0mget_myfun\u001b[0m\u001b[1;33m(\u001b[0m\u001b[1;33m)\u001b[0m\u001b[1;33m\u001b[0m\u001b[1;33m\u001b[0m\u001b[0m\n\u001b[0m",
      "\u001b[1;31mTypeError\u001b[0m: get_myfun() takes 0 positional arguments but 1 was given"
     ]
    }
   ],
   "source": [
    "# syntax >\n",
    "# class var : it is variable that defines a perticular property or atribute for class\n",
    "# self: it should be at first position\n",
    "var12 = \"Velocity\" # global variable\n",
    "class ClassName(): # class\n",
    "    var = \"Data Science\" # class variable\n",
    "    def get_myfun(): # method 1\n",
    "        var1 = \"Python\" # local variable\n",
    "        print(\"This is method1 or funtion 1\")\n",
    "    def get_myfun1(): # method 2\n",
    "        var2 = \"ML\" # LOCAL VARIABLE\n",
    "        print(\"This is method2 or function2\")\n",
    "    \n",
    "obj1 = ClassName() # here we are creating object\n",
    "obj1.get_myfun()"
   ]
  },
  {
   "cell_type": "code",
   "execution_count": 4,
   "id": "f89603bb",
   "metadata": {},
   "outputs": [
    {
     "name": "stdout",
     "output_type": "stream",
     "text": [
      "This is method2 or function2\n"
     ]
    }
   ],
   "source": [
    "# syntax >\n",
    "# class var : it is variable that defines a perticular property or atribute for class\n",
    "# self: it should be at first position\n",
    "var12 = \"Velocity\" # global variable\n",
    "class ClassName(): # class\n",
    "    var = \"Data Science\" # class variable\n",
    "    def get_myfun(self): # method 1\n",
    "        var1 = \"Python\" # local variable\n",
    "        print(\"This is method1 or funtion 1\")\n",
    "    def get_myfun1(self): # method 2\n",
    "        var2 = \"ML\" # LOCAL VARIABLE\n",
    "        print(\"This is method2 or function2\")\n",
    "    \n",
    "obj1 = ClassName() # here we are creating object\n",
    "obj1.get_myfun1()"
   ]
  },
  {
   "cell_type": "code",
   "execution_count": 5,
   "id": "0bfaa39e",
   "metadata": {},
   "outputs": [
    {
     "name": "stdout",
     "output_type": "stream",
     "text": [
      "This is my function\n",
      "Local variable>>> Python\n",
      "Class variable>>. Data Science\n"
     ]
    }
   ],
   "source": [
    "class ParentClass():\n",
    "    var = \"Data Science\"\n",
    "    \n",
    "    def get_myfun(self):\n",
    "        var2 = \"Python\"\n",
    "        print(\"This is my function\")\n",
    "        print(\"Local variable>>>\",var2)\n",
    "        \n",
    "Obj1 = ParentClass() # creating object\n",
    "Obj1.get_myfun() # calling method or function\n",
    "print(\"Class variable>>.\",Obj1.var)"
   ]
  },
  {
   "cell_type": "code",
   "execution_count": 6,
   "id": "ca641f44",
   "metadata": {},
   "outputs": [
    {
     "name": "stdout",
     "output_type": "stream",
     "text": [
      "This is my function\n",
      "Local variable>>> Python\n"
     ]
    }
   ],
   "source": [
    "Obj2 = ParentClass()\n",
    "Obj2.get_myfun()"
   ]
  },
  {
   "cell_type": "code",
   "execution_count": 7,
   "id": "4d923829",
   "metadata": {},
   "outputs": [
    {
     "name": "stdout",
     "output_type": "stream",
     "text": [
      "This is my function\n",
      "Local variable>>> Python\n"
     ]
    }
   ],
   "source": [
    "Obj3 = ParentClass()\n",
    "Obj3.get_myfun()"
   ]
  },
  {
   "cell_type": "code",
   "execution_count": null,
   "id": "6c9021af",
   "metadata": {},
   "outputs": [],
   "source": [
    "self:\n",
    "    It is used to access variables and methods inside the class\n",
    "    # It helps to differentiate between local variable and instance variable\n",
    "    #self keyword be the first parameter to method or function\n",
    "object:> as soon as object created for class then one reference for class is created automatically\n",
    "    that reference we need to provide to all methods or functions"
   ]
  },
  {
   "cell_type": "code",
   "execution_count": null,
   "id": "37826b09",
   "metadata": {},
   "outputs": [],
   "source": [
    "class DataGathering():\n",
    "    def get_data(self):\n",
    "        pass\n",
    "    print(\"Data collection\")\n",
    "    return \n",
    "    \n",
    "class EDA():\n",
    "    def get_missing_value(self):\n",
    "        pass\n",
    "\n",
    "    def get_outiler(self):\n",
    "        pass\n",
    "class ModelTraining():\n",
    "    def get_linear_regression(self):\n",
    "        pass\n",
    "    def get_logistic_regression(self):\n",
    "        pass\n",
    "class ModelEvaluation():\n",
    "    def get_accuracy(self):\n",
    "        pass\n",
    "    def get_report(self):\n",
    "        pass\n",
    "    \n",
    "\n",
    "Obj1 = DataGathering() # creating object\n",
    "Obj1.get_data()\n"
   ]
  },
  {
   "cell_type": "code",
   "execution_count": 9,
   "id": "c37c454d",
   "metadata": {},
   "outputs": [
    {
     "name": "stdout",
     "output_type": "stream",
     "text": [
      "P1 =100 and P2 =Python\n",
      "This is my method\n"
     ]
    }
   ],
   "source": [
    "class DataGathering(): # class def\n",
    "    def get_data(self,p1,p2): # method\n",
    "        print(f\"P1 ={p1} and P2 ={p2}\") # p1 =100  , p2 = python\n",
    "        print(\"This is my method\")\n",
    "Obj = DataGathering()\n",
    "Obj.get_data(100,\"Python\")\n",
    "        "
   ]
  },
  {
   "cell_type": "code",
   "execution_count": null,
   "id": "6c718dfa",
   "metadata": {},
   "outputs": [],
   "source": [
    "__init__(self,var1,var2,var3=\"Pyhton\"):\n",
    "    # it execute automatically when we create an object\n",
    "    # main purpose of it is to initialize instance variable\n",
    "Note:\n",
    "    If we are passing any argument then only we use it\n",
    "    # it will be going to execute automatically as soon as object is created for the class"
   ]
  },
  {
   "cell_type": "code",
   "execution_count": null,
   "id": "14b8ccb8",
   "metadata": {},
   "outputs": [],
   "source": [
    "global variable >  \n",
    "local variable > \n",
    "class variable:\n",
    "# Instance variable >It is a variabel whose value is specified to the instance and sgared among differnet instace"
   ]
  },
  {
   "cell_type": "code",
   "execution_count": 14,
   "id": "3c610e8a",
   "metadata": {},
   "outputs": [
    {
     "name": "stdout",
     "output_type": "stream",
     "text": [
      "We are in init method\n",
      "This is my method1\n",
      "Local variable var= 1000\n"
     ]
    },
    {
     "ename": "NameError",
     "evalue": "name 'x' is not defined",
     "output_type": "error",
     "traceback": [
      "\u001b[1;31m---------------------------------------------------------------------------\u001b[0m",
      "\u001b[1;31mNameError\u001b[0m                                 Traceback (most recent call last)",
      "\u001b[1;32m~\\AppData\\Local\\Temp/ipykernel_8108/3052608332.py\u001b[0m in \u001b[0;36m<module>\u001b[1;34m\u001b[0m\n\u001b[0;32m     18\u001b[0m         \u001b[0mprint\u001b[0m\u001b[1;33m(\u001b[0m\u001b[1;34m\"Var in init is a= \"\u001b[0m\u001b[1;33m,\u001b[0m\u001b[0mself\u001b[0m\u001b[1;33m.\u001b[0m\u001b[0ma\u001b[0m\u001b[1;33m)\u001b[0m \u001b[1;31m# instance variable printing\u001b[0m\u001b[1;33m\u001b[0m\u001b[1;33m\u001b[0m\u001b[0m\n\u001b[0;32m     19\u001b[0m \u001b[0mObj1\u001b[0m \u001b[1;33m=\u001b[0m \u001b[0mDataGathering\u001b[0m\u001b[1;33m(\u001b[0m\u001b[1;33m)\u001b[0m\u001b[1;33m\u001b[0m\u001b[1;33m\u001b[0m\u001b[0m\n\u001b[1;32m---> 20\u001b[1;33m \u001b[0mObj1\u001b[0m\u001b[1;33m.\u001b[0m\u001b[0mget_method1\u001b[0m\u001b[1;33m(\u001b[0m\u001b[1;33m)\u001b[0m\u001b[1;33m\u001b[0m\u001b[1;33m\u001b[0m\u001b[0m\n\u001b[0m",
      "\u001b[1;32m~\\AppData\\Local\\Temp/ipykernel_8108/3052608332.py\u001b[0m in \u001b[0;36mget_method1\u001b[1;34m(self)\u001b[0m\n\u001b[0;32m     10\u001b[0m         \u001b[0mprint\u001b[0m\u001b[1;33m(\u001b[0m\u001b[1;34m\"This is my method1\"\u001b[0m\u001b[1;33m)\u001b[0m\u001b[1;33m\u001b[0m\u001b[1;33m\u001b[0m\u001b[0m\n\u001b[0;32m     11\u001b[0m         \u001b[0mprint\u001b[0m\u001b[1;33m(\u001b[0m\u001b[1;34m\"Local variable var=\"\u001b[0m\u001b[1;33m,\u001b[0m\u001b[0mvar\u001b[0m\u001b[1;33m)\u001b[0m \u001b[1;31m#1000\u001b[0m\u001b[1;33m\u001b[0m\u001b[1;33m\u001b[0m\u001b[0m\n\u001b[1;32m---> 12\u001b[1;33m         \u001b[0mprint\u001b[0m\u001b[1;33m(\u001b[0m\u001b[1;34m\"class variable x=\"\u001b[0m\u001b[1;33m,\u001b[0m\u001b[0mx\u001b[0m\u001b[1;33m)\u001b[0m \u001b[1;31m# error\u001b[0m\u001b[1;33m\u001b[0m\u001b[1;33m\u001b[0m\u001b[0m\n\u001b[0m\u001b[0;32m     13\u001b[0m         \u001b[0mprint\u001b[0m\u001b[1;33m(\u001b[0m\u001b[1;34m\"class variable y=\"\u001b[0m\u001b[1;33m,\u001b[0m\u001b[0my\u001b[0m\u001b[1;33m)\u001b[0m \u001b[1;31m# error\u001b[0m\u001b[1;33m\u001b[0m\u001b[1;33m\u001b[0m\u001b[0m\n\u001b[0;32m     14\u001b[0m \u001b[1;33m\u001b[0m\u001b[0m\n",
      "\u001b[1;31mNameError\u001b[0m: name 'x' is not defined"
     ]
    }
   ],
   "source": [
    "class DataGathering(): # class def\n",
    "    x = 100 # class var\n",
    "    y = 400 # class var\n",
    "    city_name = \"Mumbai\" # class var\n",
    "    def __init__(self): # method\n",
    "        print(\"We are in init method\")\n",
    "        self.a = \"Data Science\" # instance variable\n",
    "    def get_method1(self):\n",
    "        var = 1000 # local var\n",
    "        print(\"This is my method1\")\n",
    "        print(\"Local variable var=\",var) #1000\n",
    "        print(\"class variable x=\",x) # error\n",
    "        print(\"class variable y=\",y) # error\n",
    "        \n",
    "    def get_method2(self):\n",
    "        print(\"This is method2\")\n",
    "        print(\"class variable x =\",x) # error\n",
    "        print(\"Var in init is a= \",self.a) # instance variable printing\n",
    "Obj1 = DataGathering()\n",
    "Obj1.get_method1()"
   ]
  },
  {
   "cell_type": "code",
   "execution_count": 18,
   "id": "d7fcb164",
   "metadata": {},
   "outputs": [
    {
     "name": "stdout",
     "output_type": "stream",
     "text": [
      "We are in init method\n"
     ]
    }
   ],
   "source": [
    "class DataGathering(): # class def\n",
    "    x = 100 # class var\n",
    "    y = 400 # class var\n",
    "    city_name = \"Mumbai\" # class var\n",
    "    def __init__(self): # method\n",
    "        print(\"We are in init method\")\n",
    "        self.a = \"Data Science\" # instance variable\n",
    "    def get_method1(self):\n",
    "        var = 1000 # local var\n",
    "        print(\"This is my method1\")\n",
    "        print(\"Local variable var=\",var) #1000\n",
    "        print(\"class variable x=\",self.x) \n",
    "        print(\"class variable y=\",self.y) \n",
    "        \n",
    "    def get_method2(self):\n",
    "        print(\"This is method2\")\n",
    "        print(\"class variable x =\",self.x)\n",
    "        print(\"Var in init is a= \",self.a) # instance variable printing\n",
    "Obj1 = DataGathering()\n",
    "# Obj1.get_method1()\n"
   ]
  },
  {
   "cell_type": "code",
   "execution_count": 19,
   "id": "530879ff",
   "metadata": {},
   "outputs": [
    {
     "name": "stdout",
     "output_type": "stream",
     "text": [
      "This is method2\n",
      "class variable x = 100\n",
      "Var in init is a=  Data Science\n"
     ]
    }
   ],
   "source": [
    "Obj1.get_method2()"
   ]
  },
  {
   "cell_type": "code",
   "execution_count": null,
   "id": "3b89b111",
   "metadata": {},
   "outputs": [],
   "source": []
  },
  {
   "cell_type": "code",
   "execution_count": 20,
   "id": "3d545496",
   "metadata": {},
   "outputs": [
    {
     "name": "stdout",
     "output_type": "stream",
     "text": [
      "We are in init method\n",
      "This is method2\n",
      "class variable x = 100\n",
      "Var in init is a=  Data Science\n",
      "This is my method1\n",
      "Local variable var= 1000\n",
      "class variable x= 100\n",
      "class variable y= 400\n"
     ]
    }
   ],
   "source": [
    "class DataGathering(): # class def\n",
    "    x = 100 # class var\n",
    "    y = 400 # class var\n",
    "    city_name = \"Mumbai\" # class var\n",
    "    def __init__(self): # method\n",
    "        print(\"We are in init method\")\n",
    "        self.a = \"Data Science\" # instance variable\n",
    "    def get_method1(self):\n",
    "        var = 1000 # local var\n",
    "        print(\"This is my method1\")\n",
    "        print(\"Local variable var=\",var) #1000\n",
    "        print(\"class variable x=\",self.x) \n",
    "        print(\"class variable y=\",self.y) \n",
    "        \n",
    "    def get_method2(self):\n",
    "        print(\"This is method2\")\n",
    "        print(\"class variable x =\",self.x)\n",
    "        print(\"Var in init is a= \",self.a) # instance variable printing\n",
    "        self.get_method1()\n",
    "        \n",
    "Obj2 = DataGathering()\n",
    "Obj2.get_method2()"
   ]
  },
  {
   "cell_type": "code",
   "execution_count": null,
   "id": "52b9a9ed",
   "metadata": {},
   "outputs": [],
   "source": []
  },
  {
   "cell_type": "code",
   "execution_count": 13,
   "id": "5fbd2e73",
   "metadata": {},
   "outputs": [
    {
     "name": "stdout",
     "output_type": "stream",
     "text": [
      "We are in init method\n"
     ]
    }
   ],
   "source": [
    "Obj2 = DataGathering()"
   ]
  },
  {
   "cell_type": "code",
   "execution_count": null,
   "id": "324bd566",
   "metadata": {},
   "outputs": [],
   "source": []
  }
 ],
 "metadata": {
  "kernelspec": {
   "display_name": "Python 3 (ipykernel)",
   "language": "python",
   "name": "python3"
  },
  "language_info": {
   "codemirror_mode": {
    "name": "ipython",
    "version": 3
   },
   "file_extension": ".py",
   "mimetype": "text/x-python",
   "name": "python",
   "nbconvert_exporter": "python",
   "pygments_lexer": "ipython3",
   "version": "3.9.7"
  }
 },
 "nbformat": 4,
 "nbformat_minor": 5
}
