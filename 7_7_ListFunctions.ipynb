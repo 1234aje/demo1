{
 "cells": [
  {
   "cell_type": "markdown",
   "id": "e52498ff",
   "metadata": {},
   "source": [
    "# Functions"
   ]
  },
  {
   "cell_type": "markdown",
   "id": "3a19285d",
   "metadata": {},
   "source": [
    "## 1) append()"
   ]
  },
  {
   "cell_type": "code",
   "execution_count": 1,
   "id": "8bbc326f",
   "metadata": {},
   "outputs": [],
   "source": [
    "lst = [20,30,40,50]   # add single item in list (default it will add at last index)\n",
    "lst.append(\"data\")"
   ]
  },
  {
   "cell_type": "code",
   "execution_count": 2,
   "id": "92e78f65",
   "metadata": {},
   "outputs": [
    {
     "data": {
      "text/plain": [
       "[20, 30, 40, 50, 'data']"
      ]
     },
     "execution_count": 2,
     "metadata": {},
     "output_type": "execute_result"
    }
   ],
   "source": [
    "lst"
   ]
  },
  {
   "cell_type": "code",
   "execution_count": 3,
   "id": "c797f210",
   "metadata": {},
   "outputs": [],
   "source": [
    "lst.append(12.5)"
   ]
  },
  {
   "cell_type": "code",
   "execution_count": 4,
   "id": "1f9ddb04",
   "metadata": {},
   "outputs": [
    {
     "data": {
      "text/plain": [
       "[20, 30, 40, 50, 'data', 12.5]"
      ]
     },
     "execution_count": 4,
     "metadata": {},
     "output_type": "execute_result"
    }
   ],
   "source": [
    "lst"
   ]
  },
  {
   "cell_type": "code",
   "execution_count": 6,
   "id": "98d1caa3",
   "metadata": {},
   "outputs": [],
   "source": [
    "sqr = []\n",
    "\n",
    "for i in range(1,11):\n",
    "    sqr.append(i**2)"
   ]
  },
  {
   "cell_type": "code",
   "execution_count": 7,
   "id": "96df2266",
   "metadata": {},
   "outputs": [
    {
     "data": {
      "text/plain": [
       "[1, 4, 9, 16, 25, 36, 49, 64, 81, 100]"
      ]
     },
     "execution_count": 7,
     "metadata": {},
     "output_type": "execute_result"
    }
   ],
   "source": [
    "sqr"
   ]
  },
  {
   "cell_type": "code",
   "execution_count": 8,
   "id": "1ac2fad8",
   "metadata": {},
   "outputs": [
    {
     "data": {
      "text/plain": [
       "[1, 8, 27, 64, 125, 216, 343, 512, 729, 1000]"
      ]
     },
     "execution_count": 8,
     "metadata": {},
     "output_type": "execute_result"
    }
   ],
   "source": [
    "cube = []\n",
    "\n",
    "for i in range(1,11):\n",
    "    cube.append(i**3)\n",
    "cube"
   ]
  },
  {
   "cell_type": "code",
   "execution_count": 9,
   "id": "ffb05852",
   "metadata": {},
   "outputs": [
    {
     "data": {
      "text/plain": [
       "[2, 4, 6, 8, 10]"
      ]
     },
     "execution_count": 9,
     "metadata": {},
     "output_type": "execute_result"
    }
   ],
   "source": [
    "even = []\n",
    "\n",
    "for i in range(1,11):\n",
    "    if i%2 == 0:\n",
    "        even.append(i)\n",
    "even"
   ]
  },
  {
   "cell_type": "code",
   "execution_count": 10,
   "id": "b16e305d",
   "metadata": {},
   "outputs": [
    {
     "name": "stdout",
     "output_type": "stream",
     "text": [
      "[2, 4, 6, 8, 10]\n",
      "[1, 3, 5, 7, 9]\n"
     ]
    }
   ],
   "source": [
    "even = []\n",
    "odd  = []\n",
    "\n",
    "for i in range(1,11):\n",
    "    if i%2 == 0: # True\n",
    "        even.append(i)\n",
    "    else:\n",
    "        odd.append(i)\n",
    "print(even)\n",
    "print(odd)"
   ]
  },
  {
   "cell_type": "code",
   "execution_count": 11,
   "id": "649ff81c",
   "metadata": {},
   "outputs": [
    {
     "name": "stdout",
     "output_type": "stream",
     "text": [
      "int list    >  [1]\n",
      "float list  >  [2.3]\n",
      "String list >  ['Data']\n",
      "list        >  [[2, 3, 4, 5]]\n"
     ]
    }
   ],
   "source": [
    "lst        = [1,2.3,\"Data\",[2,3,4,5]]\n",
    "lst_int    = []\n",
    "lst_float  = []\n",
    "lst_str    = []\n",
    "lst_list   = []\n",
    "for i in lst:\n",
    "    if type(i)   ==    int :\n",
    "        lst_int.append(i)\n",
    "    elif type(i) ==  float :\n",
    "        lst_float.append(i)\n",
    "    elif type(i) ==  str:\n",
    "        lst_str.append(i)\n",
    "    else:\n",
    "        lst_list.append(i)\n",
    "print(\"int list    > \",lst_int)\n",
    "print(\"float list  > \",lst_float)        \n",
    "print(\"String list > \",lst_str) \n",
    "print(\"list        > \",lst_list)"
   ]
  },
  {
   "cell_type": "markdown",
   "id": "7275fefb",
   "metadata": {},
   "source": [
    "## 2) Extend()"
   ]
  },
  {
   "cell_type": "code",
   "execution_count": 12,
   "id": "dbeac10a",
   "metadata": {},
   "outputs": [
    {
     "data": {
      "text/plain": [
       "[2, 3, 4, 5, 22, 44]"
      ]
     },
     "execution_count": 12,
     "metadata": {},
     "output_type": "execute_result"
    }
   ],
   "source": [
    "# Join two list\n",
    "lst1 = [2,3,4,5]\n",
    "lst2 = [22,44]\n",
    "lst_new = lst1 +lst2\n",
    "lst_new"
   ]
  },
  {
   "cell_type": "code",
   "execution_count": 13,
   "id": "87898b46",
   "metadata": {},
   "outputs": [
    {
     "data": {
      "text/plain": [
       "[22, 44, 2, 3, 4, 5]"
      ]
     },
     "execution_count": 13,
     "metadata": {},
     "output_type": "execute_result"
    }
   ],
   "source": [
    "lst1 = [2,3,4,5]\n",
    "lst2 = [22,44]\n",
    "lst_new = lst2 +lst1\n",
    "lst_new"
   ]
  },
  {
   "cell_type": "code",
   "execution_count": 14,
   "id": "c1e26624",
   "metadata": {},
   "outputs": [
    {
     "name": "stdout",
     "output_type": "stream",
     "text": [
      "[2, 3, 4, 5, 22, 44]\n",
      "[22, 44]\n"
     ]
    }
   ],
   "source": [
    "lst1 = [2,3,4,5]\n",
    "lst2 = [22,44]\n",
    "lst1.extend(lst2)\n",
    "print(lst1)\n",
    "print(lst2)"
   ]
  },
  {
   "cell_type": "code",
   "execution_count": 15,
   "id": "31306689",
   "metadata": {},
   "outputs": [
    {
     "name": "stdout",
     "output_type": "stream",
     "text": [
      "[2, 3, 4, 5]\n",
      "[22, 44, 2, 3, 4, 5]\n"
     ]
    }
   ],
   "source": [
    "lst1 = [2,3,4,5]\n",
    "lst2 = [22,44]\n",
    "lst2.extend(lst1)\n",
    "print(lst1)\n",
    "print(lst2)"
   ]
  },
  {
   "cell_type": "markdown",
   "id": "99cbfdc8",
   "metadata": {},
   "source": [
    "## 3)insert"
   ]
  },
  {
   "cell_type": "code",
   "execution_count": 16,
   "id": "af4a4834",
   "metadata": {},
   "outputs": [
    {
     "data": {
      "text/plain": [
       "[2, 'Data', 4, 6, 8]"
      ]
     },
     "execution_count": 16,
     "metadata": {},
     "output_type": "execute_result"
    }
   ],
   "source": [
    "even = [2,4,6,8]\n",
    "even.insert(1,\"Data\")\n",
    "even"
   ]
  },
  {
   "cell_type": "code",
   "execution_count": 17,
   "id": "965bc170",
   "metadata": {},
   "outputs": [
    {
     "data": {
      "text/plain": [
       "[2, 4, 6, 'Data', 8]"
      ]
     },
     "execution_count": 17,
     "metadata": {},
     "output_type": "execute_result"
    }
   ],
   "source": [
    "even = [2,4,6,8]\n",
    "even.insert(-1,\"Data\")\n",
    "even"
   ]
  },
  {
   "cell_type": "code",
   "execution_count": 18,
   "id": "e079b54c",
   "metadata": {},
   "outputs": [
    {
     "data": {
      "text/plain": [
       "[2, 4, 6, 'Data', 8]"
      ]
     },
     "execution_count": 18,
     "metadata": {},
     "output_type": "execute_result"
    }
   ],
   "source": [
    "even = [2,4,6,8]\n",
    "even.insert(3,\"Data\")\n",
    "even"
   ]
  },
  {
   "cell_type": "code",
   "execution_count": null,
   "id": "210457da",
   "metadata": {},
   "outputs": [],
   "source": []
  },
  {
   "cell_type": "code",
   "execution_count": null,
   "id": "f6aeb783",
   "metadata": {},
   "outputs": [],
   "source": []
  },
  {
   "cell_type": "markdown",
   "id": "7b30a750",
   "metadata": {},
   "source": [
    "## Delete items from list"
   ]
  },
  {
   "cell_type": "code",
   "execution_count": null,
   "id": "5c69b89a",
   "metadata": {},
   "outputs": [],
   "source": [
    "1.remove\n",
    "2.pop\n",
    "3.clear\n",
    "4.del"
   ]
  },
  {
   "cell_type": "markdown",
   "id": "71907a48",
   "metadata": {},
   "source": [
    "## 4.remove"
   ]
  },
  {
   "cell_type": "code",
   "execution_count": 19,
   "id": "86ec9203",
   "metadata": {},
   "outputs": [
    {
     "data": {
      "text/plain": [
       "[2, 3, 5, 6, 7]"
      ]
     },
     "execution_count": 19,
     "metadata": {},
     "output_type": "execute_result"
    }
   ],
   "source": [
    "lst = [2,3,4,5,6,7]\n",
    "lst.remove(4)\n",
    "lst"
   ]
  },
  {
   "cell_type": "code",
   "execution_count": 21,
   "id": "a686b4fc",
   "metadata": {},
   "outputs": [
    {
     "data": {
      "text/plain": [
       "['Pune', 'mumbai', 'Goa', 'channai']"
      ]
     },
     "execution_count": 21,
     "metadata": {},
     "output_type": "execute_result"
    }
   ],
   "source": [
    "city = [\"Pune\",\"mumbai\",\"delhi\",\"Goa\",\"channai\",\"Dinesh\"]\n",
    "for i in city:\n",
    "    if i.startswith(\"d\") or i.startswith(\"D\"):\n",
    "        city.remove(i)\n",
    "city\n",
    "        "
   ]
  },
  {
   "cell_type": "code",
   "execution_count": 20,
   "id": "6cc42e73",
   "metadata": {},
   "outputs": [
    {
     "data": {
      "text/plain": [
       "['Pune', 'mumbai', 'Goa', 'channai']"
      ]
     },
     "execution_count": 20,
     "metadata": {},
     "output_type": "execute_result"
    }
   ],
   "source": [
    "city = [\"Pune\",\"mumbai\",\"delhi\",\"Goa\",\"channai\",\"Dinesh\"]\n",
    "for i in city:\n",
    "    if i.upper().startswith(\"D\"):\n",
    "        city.remove(i)\n",
    "city"
   ]
  },
  {
   "cell_type": "markdown",
   "id": "57464b84",
   "metadata": {},
   "source": [
    "## 5.Pop()"
   ]
  },
  {
   "cell_type": "code",
   "execution_count": null,
   "id": "e021a552",
   "metadata": {},
   "outputs": [],
   "source": [
    "# by default it will remove last index item (-1)"
   ]
  },
  {
   "cell_type": "code",
   "execution_count": 22,
   "id": "8a21bdba",
   "metadata": {},
   "outputs": [
    {
     "data": {
      "text/plain": [
       "'Dinesh'"
      ]
     },
     "execution_count": 22,
     "metadata": {},
     "output_type": "execute_result"
    }
   ],
   "source": [
    "city = [\"Pune\",\"mumbai\",\"delhi\",\"Goa\",\"channai\",\"Dinesh\"]\n",
    "city.pop()"
   ]
  },
  {
   "cell_type": "code",
   "execution_count": 23,
   "id": "63676ec7",
   "metadata": {},
   "outputs": [
    {
     "data": {
      "text/plain": [
       "['Pune', 'mumbai', 'delhi', 'Goa', 'channai']"
      ]
     },
     "execution_count": 23,
     "metadata": {},
     "output_type": "execute_result"
    }
   ],
   "source": [
    "city"
   ]
  },
  {
   "cell_type": "markdown",
   "id": "ba98b355",
   "metadata": {},
   "source": [
    "## 6) clear "
   ]
  },
  {
   "cell_type": "code",
   "execution_count": null,
   "id": "abc93ddf",
   "metadata": {},
   "outputs": [],
   "source": [
    "# it will remove all items in list"
   ]
  },
  {
   "cell_type": "code",
   "execution_count": 24,
   "id": "1384f73b",
   "metadata": {},
   "outputs": [],
   "source": [
    "city = [\"Pune\",\"mumbai\",\"delhi\",\"Goa\",\"channai\",\"Dinesh\"]\n",
    "city.clear()"
   ]
  },
  {
   "cell_type": "code",
   "execution_count": 25,
   "id": "ace2e627",
   "metadata": {},
   "outputs": [
    {
     "data": {
      "text/plain": [
       "[]"
      ]
     },
     "execution_count": 25,
     "metadata": {},
     "output_type": "execute_result"
    }
   ],
   "source": [
    "city"
   ]
  },
  {
   "cell_type": "markdown",
   "id": "e3661b7a",
   "metadata": {},
   "source": [
    "### 7) del"
   ]
  },
  {
   "cell_type": "code",
   "execution_count": 26,
   "id": "1d0cce8c",
   "metadata": {},
   "outputs": [],
   "source": [
    "city = [\"Pune\",\"mumbai\",\"delhi\",\"Goa\",\"channai\",\"Dinesh\"]\n",
    "del city"
   ]
  },
  {
   "cell_type": "code",
   "execution_count": 27,
   "id": "e45e60f1",
   "metadata": {},
   "outputs": [
    {
     "ename": "NameError",
     "evalue": "name 'city' is not defined",
     "output_type": "error",
     "traceback": [
      "\u001b[1;31m---------------------------------------------------------------------------\u001b[0m",
      "\u001b[1;31mNameError\u001b[0m                                 Traceback (most recent call last)",
      "\u001b[1;32m~\\AppData\\Local\\Temp/ipykernel_2660/2469210864.py\u001b[0m in \u001b[0;36m<module>\u001b[1;34m\u001b[0m\n\u001b[1;32m----> 1\u001b[1;33m \u001b[0mcity\u001b[0m\u001b[1;33m\u001b[0m\u001b[1;33m\u001b[0m\u001b[0m\n\u001b[0m",
      "\u001b[1;31mNameError\u001b[0m: name 'city' is not defined"
     ]
    }
   ],
   "source": [
    "city"
   ]
  },
  {
   "cell_type": "code",
   "execution_count": 28,
   "id": "ebbfc16b",
   "metadata": {},
   "outputs": [],
   "source": [
    "city = [\"Pune\",\"mumbai\",\"delhi\",\"Goa\",\"channai\",\"Dinesh\"]\n",
    "del city[1:4]"
   ]
  },
  {
   "cell_type": "code",
   "execution_count": 29,
   "id": "8273fa1d",
   "metadata": {},
   "outputs": [
    {
     "data": {
      "text/plain": [
       "['Pune', 'channai', 'Dinesh']"
      ]
     },
     "execution_count": 29,
     "metadata": {},
     "output_type": "execute_result"
    }
   ],
   "source": [
    "city"
   ]
  },
  {
   "cell_type": "markdown",
   "id": "872b67fa",
   "metadata": {},
   "source": [
    "## 8) sort()"
   ]
  },
  {
   "cell_type": "raw",
   "id": "dec5ffd6",
   "metadata": {},
   "source": [
    "ascending order > 1,2,3,4,5\n",
    "Descending      > 10,9,8,7,6,5,4,3,2,1\n",
    "Default >> sort(reverse = False)  > Ascending\n",
    "sort(reverse = True) >> Descending order\n"
   ]
  },
  {
   "cell_type": "code",
   "execution_count": 31,
   "id": "f34f2855",
   "metadata": {},
   "outputs": [
    {
     "data": {
      "text/plain": [
       "[1, 2, 3, 5, 7, 44, 66, 88, 100]"
      ]
     },
     "execution_count": 31,
     "metadata": {},
     "output_type": "execute_result"
    }
   ],
   "source": [
    "num = [100,1,2,3,5,44,66,7,88]\n",
    "num.sort() # Ascending order\n",
    "num"
   ]
  },
  {
   "cell_type": "code",
   "execution_count": null,
   "id": "9d116211",
   "metadata": {},
   "outputs": [],
   "source": [
    "[1,2,3,4,5]"
   ]
  },
  {
   "cell_type": "code",
   "execution_count": 32,
   "id": "269764b3",
   "metadata": {},
   "outputs": [
    {
     "data": {
      "text/plain": [
       "[1, 2, 3, 5, 7, 44, 66, 88, 100]"
      ]
     },
     "execution_count": 32,
     "metadata": {},
     "output_type": "execute_result"
    }
   ],
   "source": [
    "num = [100,1,2,3,5,44,66,7,88]\n",
    "num.sort(reverse=False) # Ascending order\n",
    "num"
   ]
  },
  {
   "cell_type": "code",
   "execution_count": 33,
   "id": "d7811e03",
   "metadata": {},
   "outputs": [
    {
     "data": {
      "text/plain": [
       "[100, 88, 66, 44, 7, 5, 3, 2, 1]"
      ]
     },
     "execution_count": 33,
     "metadata": {},
     "output_type": "execute_result"
    }
   ],
   "source": [
    "num = [100,1,2,3,5,44,66,7,88]\n",
    "num.sort(reverse=True) # Dscending order\n",
    "num"
   ]
  },
  {
   "cell_type": "code",
   "execution_count": 36,
   "id": "81df42e9",
   "metadata": {},
   "outputs": [
    {
     "data": {
      "text/plain": [
       "['Channai', 'Dinesh', 'Pune']"
      ]
     },
     "execution_count": 36,
     "metadata": {},
     "output_type": "execute_result"
    }
   ],
   "source": [
    "city  = ['Pune', 'Channai', 'Dinesh']\n",
    "city.sort()\n",
    "city"
   ]
  },
  {
   "cell_type": "code",
   "execution_count": 37,
   "id": "4735a7d0",
   "metadata": {},
   "outputs": [
    {
     "data": {
      "text/plain": [
       "['Pune', 'Dinesh', 'Channai']"
      ]
     },
     "execution_count": 37,
     "metadata": {},
     "output_type": "execute_result"
    }
   ],
   "source": [
    "city  = ['Pune', 'Channai', 'Dinesh']\n",
    "city.sort(reverse=True)\n",
    "city"
   ]
  },
  {
   "cell_type": "code",
   "execution_count": 39,
   "id": "313f6f7e",
   "metadata": {},
   "outputs": [
    {
     "data": {
      "text/plain": [
       "156"
      ]
     },
     "execution_count": 39,
     "metadata": {},
     "output_type": "execute_result"
    }
   ],
   "source": [
    "len(dir(__builtins__)) # 156"
   ]
  },
  {
   "cell_type": "markdown",
   "id": "8b858558",
   "metadata": {},
   "source": [
    "## 9) Sorted()"
   ]
  },
  {
   "cell_type": "code",
   "execution_count": 40,
   "id": "2342d5fa",
   "metadata": {},
   "outputs": [
    {
     "data": {
      "text/plain": [
       "['Channai', 'Dinesh', 'Pune']"
      ]
     },
     "execution_count": 40,
     "metadata": {},
     "output_type": "execute_result"
    }
   ],
   "source": [
    "city  = ['Pune', 'Channai', 'Dinesh']\n",
    "sorted(city)"
   ]
  },
  {
   "cell_type": "code",
   "execution_count": 41,
   "id": "d240bbea",
   "metadata": {},
   "outputs": [
    {
     "data": {
      "text/plain": [
       "['Pune', 'Channai', 'Dinesh']"
      ]
     },
     "execution_count": 41,
     "metadata": {},
     "output_type": "execute_result"
    }
   ],
   "source": [
    "city"
   ]
  },
  {
   "cell_type": "code",
   "execution_count": 43,
   "id": "df2287f8",
   "metadata": {},
   "outputs": [
    {
     "name": "stdout",
     "output_type": "stream",
     "text": [
      "Before sorted ['Pune', 'Channai', 'Dinesh']\n",
      "After sorted ['Channai', 'Dinesh', 'Pune']\n"
     ]
    }
   ],
   "source": [
    "city  = ['Pune', 'Channai', 'Dinesh']\n",
    "city1 = sorted(city)\n",
    "print(\"Before sorted\", city)\n",
    "print(\"After sorted\",city1)"
   ]
  },
  {
   "cell_type": "markdown",
   "id": "d7cf25a8",
   "metadata": {},
   "source": [
    "## 10) Reverse()"
   ]
  },
  {
   "cell_type": "code",
   "execution_count": 45,
   "id": "fb7d7ed6",
   "metadata": {},
   "outputs": [
    {
     "data": {
      "text/plain": [
       "[1, 2, 3, 5, 7, 44, 66, 88, 100]"
      ]
     },
     "execution_count": 45,
     "metadata": {},
     "output_type": "execute_result"
    }
   ],
   "source": [
    "num = [100, 88, 66, 44, 7, 5, 3, 2, 1]\n",
    "num[::-1]"
   ]
  },
  {
   "cell_type": "code",
   "execution_count": 46,
   "id": "8bdb8d64",
   "metadata": {},
   "outputs": [],
   "source": [
    "num = [100, 88, 66, 44, 7, 5, 3, 2, 1]\n",
    "num.reverse()"
   ]
  },
  {
   "cell_type": "code",
   "execution_count": 47,
   "id": "8af51872",
   "metadata": {},
   "outputs": [
    {
     "data": {
      "text/plain": [
       "[1, 2, 3, 5, 7, 44, 66, 88, 100]"
      ]
     },
     "execution_count": 47,
     "metadata": {},
     "output_type": "execute_result"
    }
   ],
   "source": [
    "num"
   ]
  },
  {
   "cell_type": "markdown",
   "id": "5392f3c4",
   "metadata": {},
   "source": [
    "## 11) Reversed"
   ]
  },
  {
   "cell_type": "code",
   "execution_count": 49,
   "id": "b9792c1b",
   "metadata": {},
   "outputs": [
    {
     "data": {
      "text/plain": [
       "[1, 2, 3, 5, 7, 44, 66, 88, 100]"
      ]
     },
     "execution_count": 49,
     "metadata": {},
     "output_type": "execute_result"
    }
   ],
   "source": [
    "num = [100, 88, 66, 44, 7, 5, 3, 2, 1]\n",
    "list(reversed(num))"
   ]
  },
  {
   "cell_type": "code",
   "execution_count": 50,
   "id": "358278f6",
   "metadata": {},
   "outputs": [
    {
     "data": {
      "text/plain": [
       "[100, 88, 66, 44, 7, 5, 3, 2, 1]"
      ]
     },
     "execution_count": 50,
     "metadata": {},
     "output_type": "execute_result"
    }
   ],
   "source": [
    "num"
   ]
  },
  {
   "cell_type": "code",
   "execution_count": 53,
   "id": "4523d242",
   "metadata": {},
   "outputs": [
    {
     "name": "stdout",
     "output_type": "stream",
     "text": [
      "Before  [100, 88, 66, 44, 7, 5, 3, 2, 1]\n",
      "After  [1, 2, 3, 5, 7, 44, 66, 88, 100]\n"
     ]
    }
   ],
   "source": [
    "num = [100, 88, 66, 44, 7, 5, 3, 2, 1]\n",
    "num1 = list(reversed(num))\n",
    "print(\"Before \", num)\n",
    "print(\"After \", num1)"
   ]
  },
  {
   "cell_type": "code",
   "execution_count": 52,
   "id": "88d038d3",
   "metadata": {},
   "outputs": [
    {
     "data": {
      "text/plain": [
       "[1, 2, 3, 5, 7, 44, 66, 88, 100]"
      ]
     },
     "execution_count": 52,
     "metadata": {},
     "output_type": "execute_result"
    }
   ],
   "source": [
    "num1"
   ]
  },
  {
   "cell_type": "markdown",
   "id": "4f5ece46",
   "metadata": {},
   "source": [
    "## 12) index()"
   ]
  },
  {
   "cell_type": "code",
   "execution_count": 54,
   "id": "0a9c3a29",
   "metadata": {},
   "outputs": [
    {
     "data": {
      "text/plain": [
       "4"
      ]
     },
     "execution_count": 54,
     "metadata": {},
     "output_type": "execute_result"
    }
   ],
   "source": [
    "str1 = \"Python\"\n",
    "str1.index(\"o\")"
   ]
  },
  {
   "cell_type": "code",
   "execution_count": 55,
   "id": "734745ab",
   "metadata": {},
   "outputs": [
    {
     "name": "stdout",
     "output_type": "stream",
     "text": [
      "['P', 'y', 't', 'h', 'o', 'n']\n"
     ]
    },
    {
     "data": {
      "text/plain": [
       "4"
      ]
     },
     "execution_count": 55,
     "metadata": {},
     "output_type": "execute_result"
    }
   ],
   "source": [
    "str1 = list(\"Python\")\n",
    "print(str1)\n",
    "str1.index(\"o\")"
   ]
  },
  {
   "cell_type": "code",
   "execution_count": 56,
   "id": "1a3555ff",
   "metadata": {},
   "outputs": [
    {
     "data": {
      "text/plain": [
       "1"
      ]
     },
     "execution_count": 56,
     "metadata": {},
     "output_type": "execute_result"
    }
   ],
   "source": [
    "lst = [1,2,3,4]\n",
    "lst.index(2)"
   ]
  },
  {
   "cell_type": "code",
   "execution_count": 57,
   "id": "9b406e2b",
   "metadata": {},
   "outputs": [
    {
     "ename": "AttributeError",
     "evalue": "'list' object has no attribute 'find'",
     "output_type": "error",
     "traceback": [
      "\u001b[1;31m---------------------------------------------------------------------------\u001b[0m",
      "\u001b[1;31mAttributeError\u001b[0m                            Traceback (most recent call last)",
      "\u001b[1;32m~\\AppData\\Local\\Temp/ipykernel_2660/3309805803.py\u001b[0m in \u001b[0;36m<module>\u001b[1;34m\u001b[0m\n\u001b[0;32m      1\u001b[0m \u001b[0mlst\u001b[0m \u001b[1;33m=\u001b[0m \u001b[1;33m[\u001b[0m\u001b[1;36m1\u001b[0m\u001b[1;33m,\u001b[0m\u001b[1;36m2\u001b[0m\u001b[1;33m,\u001b[0m\u001b[1;36m3\u001b[0m\u001b[1;33m,\u001b[0m\u001b[1;36m4\u001b[0m\u001b[1;33m]\u001b[0m\u001b[1;33m\u001b[0m\u001b[1;33m\u001b[0m\u001b[0m\n\u001b[1;32m----> 2\u001b[1;33m \u001b[0mlst\u001b[0m\u001b[1;33m.\u001b[0m\u001b[0mfind\u001b[0m\u001b[1;33m(\u001b[0m\u001b[1;36m2\u001b[0m\u001b[1;33m)\u001b[0m\u001b[1;33m\u001b[0m\u001b[1;33m\u001b[0m\u001b[0m\n\u001b[0m",
      "\u001b[1;31mAttributeError\u001b[0m: 'list' object has no attribute 'find'"
     ]
    }
   ],
   "source": [
    "lst = [1,2,3,4]\n",
    "lst.find(2)"
   ]
  },
  {
   "cell_type": "markdown",
   "id": "8a53f1fd",
   "metadata": {},
   "source": [
    "## 13) count"
   ]
  },
  {
   "cell_type": "code",
   "execution_count": 59,
   "id": "6ab26ef0",
   "metadata": {},
   "outputs": [
    {
     "data": {
      "text/plain": [
       "2"
      ]
     },
     "execution_count": 59,
     "metadata": {},
     "output_type": "execute_result"
    }
   ],
   "source": [
    "num = [1, 88, 66, 44, 7, 5, 3, 2, 1]\n",
    "num.count(1)"
   ]
  },
  {
   "cell_type": "markdown",
   "id": "b761b2ea",
   "metadata": {},
   "source": [
    "## 14)copy()"
   ]
  },
  {
   "cell_type": "code",
   "execution_count": 60,
   "id": "4de84ad8",
   "metadata": {},
   "outputs": [
    {
     "name": "stdout",
     "output_type": "stream",
     "text": [
      "[1, 2, 3, 4, 5]\n",
      "[1, 2, 3, 4, 5]\n"
     ]
    }
   ],
   "source": [
    "lst1 = [1,2,3,4,5]\n",
    "lst2 = lst1\n",
    "print(lst1)\n",
    "print(lst2)"
   ]
  },
  {
   "cell_type": "code",
   "execution_count": 63,
   "id": "9df75110",
   "metadata": {},
   "outputs": [
    {
     "name": "stdout",
     "output_type": "stream",
     "text": [
      "[1, 'Data', 3, 4, 5]\n",
      "[1, 'Data', 3, 4, 5]\n"
     ]
    }
   ],
   "source": [
    "lst1 = [1,2,3,4,5]\n",
    "lst2 = lst1\n",
    "lst1[1] = \"Data\"\n",
    "print(lst1)\n",
    "print(lst2)"
   ]
  },
  {
   "cell_type": "code",
   "execution_count": 64,
   "id": "352574fc",
   "metadata": {},
   "outputs": [
    {
     "name": "stdout",
     "output_type": "stream",
     "text": [
      "[1, 'Data', 3, 4, 5]\n",
      "[1, 2, 3, 4, 5]\n"
     ]
    }
   ],
   "source": [
    "lst1 = [1,2,3,4,5]  # [1, 'Data', 3, 4, 5]\n",
    "lst2 = lst1.copy()    # [1, 3, 4, 5]\n",
    "lst1[1] = \"Data\"\n",
    "print(lst1)\n",
    "print(lst2)"
   ]
  },
  {
   "cell_type": "code",
   "execution_count": 65,
   "id": "ccf1a077",
   "metadata": {},
   "outputs": [
    {
     "name": "stdout",
     "output_type": "stream",
     "text": [
      "[1, 2, 3, 4, 5]\n",
      "[1, 'Data', 3, 4, 5]\n"
     ]
    }
   ],
   "source": [
    "lst1 = [1,2,3,4,5]  # [1, 'Data', 3, 4, 5]\n",
    "lst2 = lst1.copy()    # [1, 3, 4, 5]\n",
    "lst2[1] = \"Data\"\n",
    "print(lst1)\n",
    "print(lst2)"
   ]
  },
  {
   "cell_type": "markdown",
   "id": "5de7034d",
   "metadata": {},
   "source": [
    "## 15) "
   ]
  },
  {
   "cell_type": "code",
   "execution_count": 69,
   "id": "9fe9dd43",
   "metadata": {},
   "outputs": [
    {
     "name": "stdout",
     "output_type": "stream",
     "text": [
      "[1, [2, 'Data'], 4, 5]\n",
      "[1, [2, 'Data'], 4, 5]\n"
     ]
    }
   ],
   "source": [
    "import copy\n",
    "lst1 = [1,[2,3],4,5]  \n",
    "lst2 = lst1.copy()\n",
    "lst1[1][1] = \"Data\"\n",
    "print(lst1)\n",
    "print(lst2)"
   ]
  },
  {
   "cell_type": "code",
   "execution_count": 70,
   "id": "ed5f068b",
   "metadata": {},
   "outputs": [
    {
     "name": "stdout",
     "output_type": "stream",
     "text": [
      "[1, [2, 'Data'], 4, 5]\n",
      "[1, [2, 3], 4, 5]\n"
     ]
    }
   ],
   "source": [
    "import copy\n",
    "lst1 = [1,[2,3],4,5]  \n",
    "lst2 = copy.deepcopy(lst1)\n",
    "lst1[1][1] = \"Data\"\n",
    "print(lst1)\n",
    "print(lst2)"
   ]
  },
  {
   "cell_type": "code",
   "execution_count": 71,
   "id": "6e412810",
   "metadata": {},
   "outputs": [
    {
     "name": "stdout",
     "output_type": "stream",
     "text": [
      "[1, [2, 3], 4, 5]\n",
      "[1, [2, 'Data'], 4, 5]\n"
     ]
    }
   ],
   "source": [
    "import copy\n",
    "lst1 = [1,[2,3],4,5]  \n",
    "lst2 = copy.deepcopy(lst1)\n",
    "lst2[1][1] = \"Data\"\n",
    "print(lst1)\n",
    "print(lst2)"
   ]
  },
  {
   "cell_type": "code",
   "execution_count": null,
   "id": "4fff4e50",
   "metadata": {},
   "outputs": [],
   "source": [
    "lst = [\"Eng\",\"Math\",\"Sci\",\"Hist\",\"Hindi\"]\n",
    "Eng_Math_Sci_Hist_Hindi"
   ]
  },
  {
   "cell_type": "code",
   "execution_count": 77,
   "id": "124a29fb",
   "metadata": {},
   "outputs": [],
   "source": [
    "lst = [\"Ganesh\",\"Mayur\",\"Virat\",\"Dhanush\",\"Sachin\",\"23\",\"23.4\"]\n",
    "# lst [ \"Ganehs\",\"Dhanush\"]"
   ]
  },
  {
   "cell_type": "code",
   "execution_count": 78,
   "id": "a0e5ad9f",
   "metadata": {},
   "outputs": [
    {
     "data": {
      "text/plain": [
       "['Ganesh', 'Dhanush']"
      ]
     },
     "execution_count": 78,
     "metadata": {},
     "output_type": "execute_result"
    }
   ],
   "source": [
    "lst1 = [i for i in lst if i.endswith(\"sh\")]\n",
    "lst1"
   ]
  },
  {
   "cell_type": "markdown",
   "id": "2b47f316",
   "metadata": {},
   "source": [
    "## List comprehesion"
   ]
  },
  {
   "cell_type": "code",
   "execution_count": 79,
   "id": "54827cea",
   "metadata": {},
   "outputs": [],
   "source": [
    "lst = [\"Ganesh\",\"Mayur\",\"Virat\",\"Dhanush\",\"Sachin\",\"23\",\"23.4\"]\n",
    "# lst = [expression for i in list if condition]"
   ]
  },
  {
   "cell_type": "code",
   "execution_count": 80,
   "id": "62803e85",
   "metadata": {},
   "outputs": [
    {
     "data": {
      "text/plain": [
       "['ganesh', 'mayur', 'virat', 'dhanush', 'sachin', '23', '23.4']"
      ]
     },
     "execution_count": 80,
     "metadata": {},
     "output_type": "execute_result"
    }
   ],
   "source": [
    "lst1 = [i.lower() for i in lst]\n",
    "lst1"
   ]
  },
  {
   "cell_type": "code",
   "execution_count": 81,
   "id": "aa7855cf",
   "metadata": {},
   "outputs": [
    {
     "data": {
      "text/plain": [
       "['GANESH', 'DHANUSH']"
      ]
     },
     "execution_count": 81,
     "metadata": {},
     "output_type": "execute_result"
    }
   ],
   "source": [
    "lst1 = [i.upper() for i in lst if i.endswith(\"sh\")]\n",
    "lst1"
   ]
  },
  {
   "cell_type": "code",
   "execution_count": 83,
   "id": "2dc6d665",
   "metadata": {},
   "outputs": [
    {
     "data": {
      "text/plain": [
       "[1, 4, 9, 16, 25, 36, 49, 64, 81, 100]"
      ]
     },
     "execution_count": 83,
     "metadata": {},
     "output_type": "execute_result"
    }
   ],
   "source": [
    "sqr = [i**2 for i in range(1,11)]\n",
    "sqr"
   ]
  },
  {
   "cell_type": "code",
   "execution_count": 84,
   "id": "703e6fe8",
   "metadata": {},
   "outputs": [
    {
     "data": {
      "text/plain": [
       "[2, 4, 6, 8, 10]"
      ]
     },
     "execution_count": 84,
     "metadata": {},
     "output_type": "execute_result"
    }
   ],
   "source": [
    "even = [i for i in range(1,11) if i%2 == 0]\n",
    "even"
   ]
  },
  {
   "cell_type": "code",
   "execution_count": 85,
   "id": "ca833357",
   "metadata": {},
   "outputs": [
    {
     "data": {
      "text/plain": [
       "[1, 3, 5, 7, 9]"
      ]
     },
     "execution_count": 85,
     "metadata": {},
     "output_type": "execute_result"
    }
   ],
   "source": [
    "odd = [i for i in range(1,11) if i%2 != 0]\n",
    "odd"
   ]
  },
  {
   "cell_type": "code",
   "execution_count": 86,
   "id": "c21a5fd6",
   "metadata": {},
   "outputs": [
    {
     "data": {
      "text/plain": [
       "5"
      ]
     },
     "execution_count": 86,
     "metadata": {},
     "output_type": "execute_result"
    }
   ],
   "source": [
    "odd = len([i for i in range(1,11) if i%2 != 0])\n",
    "odd"
   ]
  },
  {
   "cell_type": "code",
   "execution_count": null,
   "id": "cdc5f5fa",
   "metadata": {},
   "outputs": [],
   "source": []
  }
 ],
 "metadata": {
  "kernelspec": {
   "display_name": "Python 3 (ipykernel)",
   "language": "python",
   "name": "python3"
  },
  "language_info": {
   "codemirror_mode": {
    "name": "ipython",
    "version": 3
   },
   "file_extension": ".py",
   "mimetype": "text/x-python",
   "name": "python",
   "nbconvert_exporter": "python",
   "pygments_lexer": "ipython3",
   "version": "3.9.7"
  }
 },
 "nbformat": 4,
 "nbformat_minor": 5
}
